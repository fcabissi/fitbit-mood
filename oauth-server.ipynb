{
 "cells": [
  {
   "cell_type": "code",
   "execution_count": 1,
   "metadata": {},
   "outputs": [],
   "source": [
    "import fitbit\n",
    "import gather_keys_oauth2 as Oauth2\n",
    "import pandas as pd \n",
    "from pandas.io.json import json_normalize\n",
    "from datetime import datetime as dt\n",
    "import matplotlib as plt\n",
    "CLIENT_ID = '22CWDP'\n",
    "CLIENT_SECRET = '190040c4bff7422c7807ddc590f228fe'"
   ]
  },
  {
   "cell_type": "code",
   "execution_count": null,
   "metadata": {},
   "outputs": [
    {
     "name": "stderr",
     "output_type": "stream",
     "text": [
      "[14/Apr/2018:15:23:57] ENGINE Listening for SIGTERM.\n",
      "[14/Apr/2018:15:23:57] ENGINE Bus STARTING\n",
      "[14/Apr/2018:15:23:57] ENGINE Set handler for console events.\n",
      "CherryPy Checker:\n",
      "The Application mounted at '' has an empty config.\n",
      "\n",
      "[14/Apr/2018:15:23:57] ENGINE Started monitor thread 'Autoreloader'.\n",
      "[14/Apr/2018:15:23:57] ENGINE Serving on http://127.0.0.1:8080\n",
      "[14/Apr/2018:15:23:57] ENGINE Bus STARTED\n",
      "[15/Apr/2018:09:29:43] HTTP \n",
      "Traceback (most recent call last):\n",
      "  File \"c:\\users\\brightsteel\\fitbit-mood\\lib\\site-packages\\cherrypy\\_cprequest.py\", line 631, in respond\n",
      "    self._do_respond(path_info)\n",
      "  File \"c:\\users\\brightsteel\\fitbit-mood\\lib\\site-packages\\cherrypy\\_cprequest.py\", line 690, in _do_respond\n",
      "    response.body = self.handler()\n",
      "  File \"c:\\users\\brightsteel\\fitbit-mood\\lib\\site-packages\\cherrypy\\lib\\encoding.py\", line 221, in __call__\n",
      "    self.body = self.oldhandler(*args, **kwargs)\n",
      "  File \"c:\\users\\brightsteel\\fitbit-mood\\lib\\site-packages\\cherrypy\\_cpdispatch.py\", line 60, in __call__\n",
      "    return self.callable(*self.args, **self.kwargs)\n",
      "  File \"C:\\Users\\brightsteel\\Documents\\GitHub\\fitbit-mood\\gather_keys_oauth2.py\", line 50, in index\n",
      "    self.fitbit.client.fetch_access_token(code)\n",
      "  File \"c:\\users\\brightsteel\\fitbit-mood\\lib\\site-packages\\fitbit\\api.py\", line 146, in fetch_access_token\n",
      "    code=code)\n",
      "  File \"c:\\users\\brightsteel\\fitbit-mood\\lib\\site-packages\\requests_oauthlib\\oauth2_session.py\", line 244, in fetch_token\n",
      "    self._client.parse_request_body_response(r.text, scope=self.scope)\n",
      "  File \"c:\\users\\brightsteel\\fitbit-mood\\lib\\site-packages\\oauthlib\\oauth2\\rfc6749\\clients\\base.py\", line 408, in parse_request_body_response\n",
      "    self.token = parse_token_response(body, scope=scope)\n",
      "  File \"c:\\users\\brightsteel\\fitbit-mood\\lib\\site-packages\\oauthlib\\oauth2\\rfc6749\\parameters.py\", line 379, in parse_token_response\n",
      "    validate_token_parameters(params)\n",
      "  File \"c:\\users\\brightsteel\\fitbit-mood\\lib\\site-packages\\oauthlib\\oauth2\\rfc6749\\parameters.py\", line 386, in validate_token_parameters\n",
      "    raise_from_error(params.get('error'), params)\n",
      "  File \"c:\\users\\brightsteel\\fitbit-mood\\lib\\site-packages\\oauthlib\\oauth2\\rfc6749\\errors.py\", line 415, in raise_from_error\n",
      "    raise cls(**kwargs)\n",
      "oauthlib.oauth2.rfc6749.errors.InvalidGrantError: (invalid_grant) \n",
      "[15/Apr/2018:09:29:43] HTTP \n",
      "Request Headers:\n",
      "  Remote-Addr: 127.0.0.1\n",
      "  HOST: 127.0.0.1:8080\n",
      "  CONNECTION: keep-alive\n",
      "  UPGRADE-INSECURE-REQUESTS: 1\n",
      "  USER-AGENT: Mozilla/5.0 (Windows NT 10.0; Win64; x64) AppleWebKit/537.36 (KHTML, like Gecko) Chrome/65.0.3325.181 Safari/537.36\n",
      "  ACCEPT: text/html,application/xhtml+xml,application/xml;q=0.9,image/webp,image/apng,*/*;q=0.8\n",
      "  ACCEPT-ENCODING: gzip, deflate, br\n",
      "  ACCEPT-LANGUAGE: en-US,en;q=0.9\n"
     ]
    },
    {
     "name": "stdout",
     "output_type": "stream",
     "text": [
      "127.0.0.1 - - [15/Apr/2018:09:29:43] \"GET /?code=c88032a94c075296e7924a76324907d0fa05946e&state=gWWHfWHfd8bDmkSCfSisx869TQzMGQ HTTP/1.1\" 500 2692 \"\" \"Mozilla/5.0 (Windows NT 10.0; Win64; x64) AppleWebKit/537.36 (KHTML, like Gecko) Chrome/65.0.3325.181 Safari/537.36\"\n"
     ]
    },
    {
     "name": "stderr",
     "output_type": "stream",
     "text": [
      "[15/Apr/2018:09:30:27] HTTP \n",
      "Traceback (most recent call last):\n",
      "  File \"c:\\users\\brightsteel\\fitbit-mood\\lib\\site-packages\\cherrypy\\_cprequest.py\", line 631, in respond\n",
      "    self._do_respond(path_info)\n",
      "  File \"c:\\users\\brightsteel\\fitbit-mood\\lib\\site-packages\\cherrypy\\_cprequest.py\", line 690, in _do_respond\n",
      "    response.body = self.handler()\n",
      "  File \"c:\\users\\brightsteel\\fitbit-mood\\lib\\site-packages\\cherrypy\\lib\\encoding.py\", line 221, in __call__\n",
      "    self.body = self.oldhandler(*args, **kwargs)\n",
      "  File \"c:\\users\\brightsteel\\fitbit-mood\\lib\\site-packages\\cherrypy\\_cpdispatch.py\", line 60, in __call__\n",
      "    return self.callable(*self.args, **self.kwargs)\n",
      "  File \"C:\\Users\\brightsteel\\Documents\\GitHub\\fitbit-mood\\gather_keys_oauth2.py\", line 50, in index\n",
      "    self.fitbit.client.fetch_access_token(code)\n",
      "  File \"c:\\users\\brightsteel\\fitbit-mood\\lib\\site-packages\\fitbit\\api.py\", line 146, in fetch_access_token\n",
      "    code=code)\n",
      "  File \"c:\\users\\brightsteel\\fitbit-mood\\lib\\site-packages\\requests_oauthlib\\oauth2_session.py\", line 244, in fetch_token\n",
      "    self._client.parse_request_body_response(r.text, scope=self.scope)\n",
      "  File \"c:\\users\\brightsteel\\fitbit-mood\\lib\\site-packages\\oauthlib\\oauth2\\rfc6749\\clients\\base.py\", line 408, in parse_request_body_response\n",
      "    self.token = parse_token_response(body, scope=scope)\n",
      "  File \"c:\\users\\brightsteel\\fitbit-mood\\lib\\site-packages\\oauthlib\\oauth2\\rfc6749\\parameters.py\", line 379, in parse_token_response\n",
      "    validate_token_parameters(params)\n",
      "  File \"c:\\users\\brightsteel\\fitbit-mood\\lib\\site-packages\\oauthlib\\oauth2\\rfc6749\\parameters.py\", line 386, in validate_token_parameters\n",
      "    raise_from_error(params.get('error'), params)\n",
      "  File \"c:\\users\\brightsteel\\fitbit-mood\\lib\\site-packages\\oauthlib\\oauth2\\rfc6749\\errors.py\", line 415, in raise_from_error\n",
      "    raise cls(**kwargs)\n",
      "oauthlib.oauth2.rfc6749.errors.InvalidGrantError: (invalid_grant) \n",
      "[15/Apr/2018:09:30:27] HTTP \n",
      "Request Headers:\n",
      "  Remote-Addr: 127.0.0.1\n",
      "  HOST: 127.0.0.1:8080\n",
      "  CONNECTION: keep-alive\n",
      "  UPGRADE-INSECURE-REQUESTS: 1\n",
      "  USER-AGENT: Mozilla/5.0 (Windows NT 10.0; Win64; x64) AppleWebKit/537.36 (KHTML, like Gecko) Chrome/65.0.3325.181 Safari/537.36\n",
      "  ACCEPT: text/html,application/xhtml+xml,application/xml;q=0.9,image/webp,image/apng,*/*;q=0.8\n",
      "  ACCEPT-ENCODING: gzip, deflate, br\n",
      "  ACCEPT-LANGUAGE: en-US,en;q=0.9\n"
     ]
    },
    {
     "name": "stdout",
     "output_type": "stream",
     "text": [
      "127.0.0.1 - - [15/Apr/2018:09:30:27] \"GET /?code=9f17a67fbcb3a103b7ee0461a165d61bfd28c5dd&state=sz7HDNlm3juusnw7QygZp18zrjgib5 HTTP/1.1\" 500 2692 \"\" \"Mozilla/5.0 (Windows NT 10.0; Win64; x64) AppleWebKit/537.36 (KHTML, like Gecko) Chrome/65.0.3325.181 Safari/537.36\"\n"
     ]
    },
    {
     "name": "stderr",
     "output_type": "stream",
     "text": [
      "[15/Apr/2018:09:30:37] HTTP \n",
      "Traceback (most recent call last):\n",
      "  File \"c:\\users\\brightsteel\\fitbit-mood\\lib\\site-packages\\cherrypy\\_cprequest.py\", line 631, in respond\n",
      "    self._do_respond(path_info)\n",
      "  File \"c:\\users\\brightsteel\\fitbit-mood\\lib\\site-packages\\cherrypy\\_cprequest.py\", line 690, in _do_respond\n",
      "    response.body = self.handler()\n",
      "  File \"c:\\users\\brightsteel\\fitbit-mood\\lib\\site-packages\\cherrypy\\lib\\encoding.py\", line 221, in __call__\n",
      "    self.body = self.oldhandler(*args, **kwargs)\n",
      "  File \"c:\\users\\brightsteel\\fitbit-mood\\lib\\site-packages\\cherrypy\\_cpdispatch.py\", line 60, in __call__\n",
      "    return self.callable(*self.args, **self.kwargs)\n",
      "  File \"C:\\Users\\brightsteel\\Documents\\GitHub\\fitbit-mood\\gather_keys_oauth2.py\", line 50, in index\n",
      "    self.fitbit.client.fetch_access_token(code)\n",
      "  File \"c:\\users\\brightsteel\\fitbit-mood\\lib\\site-packages\\fitbit\\api.py\", line 146, in fetch_access_token\n",
      "    code=code)\n",
      "  File \"c:\\users\\brightsteel\\fitbit-mood\\lib\\site-packages\\requests_oauthlib\\oauth2_session.py\", line 244, in fetch_token\n",
      "    self._client.parse_request_body_response(r.text, scope=self.scope)\n",
      "  File \"c:\\users\\brightsteel\\fitbit-mood\\lib\\site-packages\\oauthlib\\oauth2\\rfc6749\\clients\\base.py\", line 408, in parse_request_body_response\n",
      "    self.token = parse_token_response(body, scope=scope)\n",
      "  File \"c:\\users\\brightsteel\\fitbit-mood\\lib\\site-packages\\oauthlib\\oauth2\\rfc6749\\parameters.py\", line 379, in parse_token_response\n",
      "    validate_token_parameters(params)\n",
      "  File \"c:\\users\\brightsteel\\fitbit-mood\\lib\\site-packages\\oauthlib\\oauth2\\rfc6749\\parameters.py\", line 386, in validate_token_parameters\n",
      "    raise_from_error(params.get('error'), params)\n",
      "  File \"c:\\users\\brightsteel\\fitbit-mood\\lib\\site-packages\\oauthlib\\oauth2\\rfc6749\\errors.py\", line 415, in raise_from_error\n",
      "    raise cls(**kwargs)\n",
      "oauthlib.oauth2.rfc6749.errors.InvalidGrantError: (invalid_grant) \n",
      "[15/Apr/2018:09:30:37] HTTP \n",
      "Request Headers:\n",
      "  Remote-Addr: 127.0.0.1\n",
      "  HOST: 127.0.0.1:8080\n",
      "  CONNECTION: keep-alive\n",
      "  UPGRADE-INSECURE-REQUESTS: 1\n",
      "  USER-AGENT: Mozilla/5.0 (Windows NT 10.0; Win64; x64) AppleWebKit/537.36 (KHTML, like Gecko) Chrome/65.0.3325.181 Safari/537.36\n",
      "  ACCEPT: text/html,application/xhtml+xml,application/xml;q=0.9,image/webp,image/apng,*/*;q=0.8\n",
      "  ACCEPT-ENCODING: gzip, deflate, br\n",
      "  ACCEPT-LANGUAGE: en-US,en;q=0.9\n"
     ]
    },
    {
     "name": "stdout",
     "output_type": "stream",
     "text": [
      "127.0.0.1 - - [15/Apr/2018:09:30:37] \"GET /?code=e962b91f02f73b2beb6c67fecc3cce10ebe5e8d2&state=L2MV3fQk4TnPbNugHp0aKT4QcFxGGp HTTP/1.1\" 500 2692 \"\" \"Mozilla/5.0 (Windows NT 10.0; Win64; x64) AppleWebKit/537.36 (KHTML, like Gecko) Chrome/65.0.3325.181 Safari/537.36\"\n"
     ]
    },
    {
     "name": "stderr",
     "output_type": "stream",
     "text": [
      "[15/Apr/2018:09:32:10] HTTP \n",
      "Traceback (most recent call last):\n",
      "  File \"c:\\users\\brightsteel\\fitbit-mood\\lib\\site-packages\\cherrypy\\_cprequest.py\", line 631, in respond\n",
      "    self._do_respond(path_info)\n",
      "  File \"c:\\users\\brightsteel\\fitbit-mood\\lib\\site-packages\\cherrypy\\_cprequest.py\", line 690, in _do_respond\n",
      "    response.body = self.handler()\n",
      "  File \"c:\\users\\brightsteel\\fitbit-mood\\lib\\site-packages\\cherrypy\\lib\\encoding.py\", line 221, in __call__\n",
      "    self.body = self.oldhandler(*args, **kwargs)\n",
      "  File \"c:\\users\\brightsteel\\fitbit-mood\\lib\\site-packages\\cherrypy\\_cpdispatch.py\", line 60, in __call__\n",
      "    return self.callable(*self.args, **self.kwargs)\n",
      "  File \"C:\\Users\\brightsteel\\Documents\\GitHub\\fitbit-mood\\gather_keys_oauth2.py\", line 50, in index\n",
      "    self.fitbit.client.fetch_access_token(code)\n",
      "  File \"c:\\users\\brightsteel\\fitbit-mood\\lib\\site-packages\\fitbit\\api.py\", line 146, in fetch_access_token\n",
      "    code=code)\n",
      "  File \"c:\\users\\brightsteel\\fitbit-mood\\lib\\site-packages\\requests_oauthlib\\oauth2_session.py\", line 244, in fetch_token\n",
      "    self._client.parse_request_body_response(r.text, scope=self.scope)\n",
      "  File \"c:\\users\\brightsteel\\fitbit-mood\\lib\\site-packages\\oauthlib\\oauth2\\rfc6749\\clients\\base.py\", line 408, in parse_request_body_response\n",
      "    self.token = parse_token_response(body, scope=scope)\n",
      "  File \"c:\\users\\brightsteel\\fitbit-mood\\lib\\site-packages\\oauthlib\\oauth2\\rfc6749\\parameters.py\", line 379, in parse_token_response\n",
      "    validate_token_parameters(params)\n",
      "  File \"c:\\users\\brightsteel\\fitbit-mood\\lib\\site-packages\\oauthlib\\oauth2\\rfc6749\\parameters.py\", line 386, in validate_token_parameters\n",
      "    raise_from_error(params.get('error'), params)\n",
      "  File \"c:\\users\\brightsteel\\fitbit-mood\\lib\\site-packages\\oauthlib\\oauth2\\rfc6749\\errors.py\", line 415, in raise_from_error\n",
      "    raise cls(**kwargs)\n",
      "oauthlib.oauth2.rfc6749.errors.InvalidGrantError: (invalid_grant) \n",
      "[15/Apr/2018:09:32:10] HTTP \n",
      "Request Headers:\n",
      "  Remote-Addr: 127.0.0.1\n",
      "  HOST: 127.0.0.1:8080\n",
      "  CONNECTION: keep-alive\n",
      "  UPGRADE-INSECURE-REQUESTS: 1\n",
      "  USER-AGENT: Mozilla/5.0 (Windows NT 10.0; Win64; x64) AppleWebKit/537.36 (KHTML, like Gecko) Chrome/65.0.3325.181 Safari/537.36\n",
      "  ACCEPT: text/html,application/xhtml+xml,application/xml;q=0.9,image/webp,image/apng,*/*;q=0.8\n",
      "  ACCEPT-ENCODING: gzip, deflate, br\n",
      "  ACCEPT-LANGUAGE: en-US,en;q=0.9\n"
     ]
    },
    {
     "name": "stdout",
     "output_type": "stream",
     "text": [
      "127.0.0.1 - - [15/Apr/2018:09:32:10] \"GET /?code=49c98aa8fed90188305cd77b8b376d78d6f8673f&state=MhTWquH6f1NbZILbp0Dzr85iil8sGg HTTP/1.1\" 500 2692 \"\" \"Mozilla/5.0 (Windows NT 10.0; Win64; x64) AppleWebKit/537.36 (KHTML, like Gecko) Chrome/65.0.3325.181 Safari/537.36\"\n"
     ]
    }
   ],
   "source": [
    "server = Oauth2.OAuth2Server(CLIENT_ID, CLIENT_SECRET)\n",
    "server.browser_authorize()\n",
    "ACCESS_TOKEN = str(server.fitbit.client.session.token['access_token'])\n",
    "REFRESH_TOKEN = str(server.fitbit.client.session.token['refresh_token'])\n",
    "auth2_client = fitbit.Fitbit(CLIENT_ID, CLIENT_SECRET, oauth2=True, access_token=ACCESS_TOKEN, refresh_token=REFRESH_TOKEN,redirect_uri='https://127.0.0.1:8080/')"
   ]
  },
  {
   "cell_type": "code",
   "execution_count": null,
   "metadata": {},
   "outputs": [],
   "source": [
    "fit_statsHR = auth2_client.intraday_time_series('activities/heart', base_date='2018-04-14', detail_level='1sec')"
   ]
  },
  {
   "cell_type": "code",
   "execution_count": 15,
   "metadata": {},
   "outputs": [],
   "source": [
    "hrData = fit_statsHR['activities-heart-intraday']['dataset']"
   ]
  },
  {
   "cell_type": "code",
   "execution_count": 16,
   "metadata": {},
   "outputs": [
    {
     "data": {
      "text/plain": [
       "261"
      ]
     },
     "execution_count": 16,
     "metadata": {},
     "output_type": "execute_result"
    }
   ],
   "source": [
    "df_hr = json_normalize(hrData)\n",
    "len(df_hr)"
   ]
  },
  {
   "cell_type": "code",
   "execution_count": 17,
   "metadata": {},
   "outputs": [
    {
     "data": {
      "text/plain": [
       "dtype('int64')"
      ]
     },
     "execution_count": 17,
     "metadata": {},
     "output_type": "execute_result"
    }
   ],
   "source": [
    "df_hr['time'] = pd.to_datetime(df_hr['time'],format= '%H:%M:%S' ).dt.time\n",
    "df_hr['value'].dtypes"
   ]
  },
  {
   "cell_type": "code",
   "execution_count": 18,
   "metadata": {},
   "outputs": [
    {
     "data": {
      "text/plain": [
       "<matplotlib.axes._subplots.AxesSubplot at 0x181a2c9a358>"
      ]
     },
     "execution_count": 18,
     "metadata": {},
     "output_type": "execute_result"
    },
    {
     "data": {
      "image/png": "[encoded data removed]",
      "text/plain": [
       "<Figure size 432x288 with 1 Axes>"
      ]
     },
     "metadata": {},
     "output_type": "display_data"
    }
   ],
   "source": [
    "\n",
    "df_hr.plot(x='time',y='value',kind='line')"
   ]
  },
  {
   "cell_type": "code",
   "execution_count": 12,
   "metadata": {},
   "outputs": [
    {
     "data": {
      "text/plain": [
       "datetime.time(13, 19, 1)"
      ]
     },
     "execution_count": 12,
     "metadata": {},
     "output_type": "execute_result"
    }
   ],
   "source": [
    "df_hr['time'].min()"
   ]
  },
  {
   "cell_type": "code",
   "execution_count": null,
   "metadata": {},
   "outputs": [],
   "source": []
  }
 ],
 "metadata": {
  "kernelspec": {
   "display_name": "Python 3",
   "language": "python",
   "name": "python3"
  },
  "language_info": {
   "codemirror_mode": {
    "name": "ipython",
    "version": 3
   },
   "file_extension": ".py",
   "mimetype": "text/x-python",
   "name": "python",
   "nbconvert_exporter": "python",
   "pygments_lexer": "ipython3",
   "version": "3.6.5"
  }
 },
 "nbformat": 4,
 "nbformat_minor": 2
}
